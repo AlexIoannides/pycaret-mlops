{
 "cells": [
  {
   "cell_type": "markdown",
   "id": "50bee08a-1852-4f9c-900d-ffafac66bcfb",
   "metadata": {},
   "source": [
    "# Test Prediction Service\n",
    "\n",
    "Interacting with the FastAPI service to access prediction requests."
   ]
  },
  {
   "cell_type": "markdown",
   "id": "a16ce274-7cda-4d0c-b759-de30355604ce",
   "metadata": {},
   "source": [
    "## Imports and Configuration"
   ]
  },
  {
   "cell_type": "code",
   "execution_count": 2,
   "id": "4a54dec6-4269-4c02-8f77-8e08996453a0",
   "metadata": {},
   "outputs": [],
   "source": [
    "import requests\n",
    "\n",
    "PREDICTION_SERVICE_URL = \"http://localhost:8080/pycaret-diamond-prices/serve-predictions\""
   ]
  },
  {
   "cell_type": "markdown",
   "id": "1db56aa8-cb58-40f4-b613-8a3001a1a7fb",
   "metadata": {},
   "source": [
    "## Get Predictions!\n",
    "\n",
    "Define a simple function to make this a bit easier."
   ]
  },
  {
   "cell_type": "code",
   "execution_count": 6,
   "id": "1923a074-2270-4129-966b-9dfb4e45c424",
   "metadata": {},
   "outputs": [],
   "source": [
    "def get_prediction(carat_weight: float, cut: str, color: str, clarity: str, polish: str, symmetry: str, report: str):\n",
    "    url = (\n",
    "        f\"{PREDICTION_SERVICE_URL}/predict?carat_weight={carat_weight}&cut={cut}\"\n",
    "        f\"&color={color}&clarity={clarity}&polish={polish}&symmetry={symmetry}\"\n",
    "        f\"&report={report}\"\n",
    "    )\n",
    "    x = requests.post(url)\n",
    "    print(x.text)"
   ]
  },
  {
   "cell_type": "markdown",
   "id": "91db166c-1915-400e-a2c9-8232cdc9ce6b",
   "metadata": {},
   "source": [
    "Then send some requests."
   ]
  },
  {
   "cell_type": "code",
   "execution_count": 8,
   "id": "d64c2cb7-3032-470f-a084-c973b99e360f",
   "metadata": {},
   "outputs": [
    {
     "name": "stdout",
     "output_type": "stream",
     "text": [
      "{\"prediction\":7865}\n"
     ]
    }
   ],
   "source": [
    "get_prediction(1.1, \"Ideal\", \"H\", \"SII\", \"VG\", \"EX\", \"GIA\")"
   ]
  }
 ],
 "metadata": {
  "kernelspec": {
   "display_name": "Python 3 (ipykernel)",
   "language": "python",
   "name": "python3"
  },
  "language_info": {
   "codemirror_mode": {
    "name": "ipython",
    "version": 3
   },
   "file_extension": ".py",
   "mimetype": "text/x-python",
   "name": "python",
   "nbconvert_exporter": "python",
   "pygments_lexer": "ipython3",
   "version": "3.8.5"
  }
 },
 "nbformat": 4,
 "nbformat_minor": 5
}
